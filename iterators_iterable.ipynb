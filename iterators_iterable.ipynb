{
 "cells": [
  {
   "cell_type": "markdown",
   "id": "0556bbc0",
   "metadata": {
    "slideshow": {
     "slide_type": "notes"
    }
   },
   "source": [
    "#Iterable is an object, which one can iterate over. It generates an Iterator when passed to iter() method. \n",
    "Iterator is an object, which is used to iterate over an iterable object using __next__() method. \n",
    "Iterators have __next__() method, which returns the next item of the object."
   ]
  },
  {
   "cell_type": "code",
   "execution_count": 4,
   "id": "55025dc1",
   "metadata": {},
   "outputs": [
    {
     "name": "stdout",
     "output_type": "stream",
     "text": [
      "1\n",
      "2\n",
      "3\n",
      "4\n",
      "5\n",
      "6\n",
      "['__add__', '__class__', '__contains__', '__delattr__', '__delitem__', '__dir__', '__doc__', '__eq__', '__format__', '__ge__', '__getattribute__', '__getitem__', '__gt__', '__hash__', '__iadd__', '__imul__', '__init__', '__init_subclass__', '__iter__', '__le__', '__len__', '__lt__', '__mul__', '__ne__', '__new__', '__reduce__', '__reduce_ex__', '__repr__', '__reversed__', '__rmul__', '__setattr__', '__setitem__', '__sizeof__', '__str__', '__subclasshook__', 'append', 'clear', 'copy', 'count', 'extend', 'index', 'insert', 'pop', 'remove', 'reverse', 'sort']\n"
     ]
    }
   ],
   "source": [
    "#To check list, tuple ... are iterable or not\n",
    "list=[1,2,3,4,5,6]\n",
    "for i in list:\n",
    "    print(i)\n",
    "\n",
    "print(dir(list))   # presence of  __iter__ method shows wehter an object is iterable or not "
   ]
  },
  {
   "cell_type": "code",
   "execution_count": 8,
   "id": "ff7428ea",
   "metadata": {},
   "outputs": [
    {
     "name": "stdout",
     "output_type": "stream",
     "text": [
      "1\n",
      "2\n",
      "3\n",
      "4\n",
      "5\n",
      "6\n"
     ]
    }
   ],
   "source": [
    "#converting iterable  objects to iterator\n",
    "L1=iter(list)   #  or  list1.__iter__   ,  \n",
    "while True:\n",
    "    try:\n",
    "        print(next(L1))\n",
    "    except StopIteration:\n",
    "        break"
   ]
  },
  {
   "cell_type": "code",
   "execution_count": 17,
   "id": "adfc571d",
   "metadata": {
    "slideshow": {
     "slide_type": "-"
    }
   },
   "outputs": [],
   "source": [
    "#defining Range ---  class as iterator\n",
    "class Def_Range:\n",
    "    def __init__(self,start,end):\n",
    "        self.value=start\n",
    "        self.end=end\n",
    "    def __iter__(self):\n",
    "        return self\n",
    "    def __next__(self):\n",
    "            if self.value <= self.end:\n",
    "                current=self.value\n",
    "                self.value+=1\n",
    "                return current\n",
    "            else:\n",
    "                raise StopIteration\n",
    "        \n",
    "            "
   ]
  },
  {
   "cell_type": "code",
   "execution_count": 21,
   "id": "414ffca3",
   "metadata": {},
   "outputs": [],
   "source": [
    "#Checking an obj is iterable or not\n",
    "def iterable(obj):\n",
    "    try:\n",
    "        iter(obj)\n",
    "        return True\n",
    "          \n",
    "    except TypeError:\n",
    "        return False"
   ]
  },
  {
   "cell_type": "code",
   "execution_count": 23,
   "id": "cf9f63be",
   "metadata": {},
   "outputs": [
    {
     "name": "stdout",
     "output_type": "stream",
     "text": [
      "1\n",
      "2\n",
      "3\n",
      "4\n",
      "5\n",
      "6\n",
      "7\n",
      "8\n",
      "9\n",
      "10\n",
      "11\n",
      "12\n",
      "13\n",
      "14\n",
      "15\n"
     ]
    }
   ],
   "source": [
    "r=Def_Range(1,15)  # define object for class , r is iterator\n",
    "if (iterable(r)):   #checking if iterator or not \n",
    "    while True:     # accessing iterator next values till last value\n",
    "        try:\n",
    "            print(next(r))\n",
    "        except StopIteration:\n",
    "            break\n",
    "        \n",
    "        \n"
   ]
  }
 ],
 "metadata": {
  "celltoolbar": "Slideshow",
  "kernelspec": {
   "display_name": "Python 3",
   "language": "python",
   "name": "python3"
  },
  "language_info": {
   "codemirror_mode": {
    "name": "ipython",
    "version": 3
   },
   "file_extension": ".py",
   "mimetype": "text/x-python",
   "name": "python",
   "nbconvert_exporter": "python",
   "pygments_lexer": "ipython3",
   "version": "3.8.10"
  }
 },
 "nbformat": 4,
 "nbformat_minor": 5
}
