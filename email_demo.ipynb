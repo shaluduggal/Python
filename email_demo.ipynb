{
 "cells": [
  {
   "cell_type": "code",
   "execution_count": 3,
   "id": "4b1618be",
   "metadata": {},
   "outputs": [],
   "source": [
    "from email.mime.multipart import MIMEMultipart\n",
    "from email.mime.text import MIMEText"
   ]
  },
  {
   "cell_type": "code",
   "execution_count": 9,
   "id": "57db3959",
   "metadata": {},
   "outputs": [],
   "source": [
    "import os\n",
    "import smtplib,ssl\n",
    "from email.message import EmailMessage"
   ]
  },
  {
   "cell_type": "code",
   "execution_count": null,
   "id": "9b3d626d",
   "metadata": {},
   "outputs": [],
   "source": []
  },
  {
   "cell_type": "code",
   "execution_count": null,
   "id": "0909d440",
   "metadata": {},
   "outputs": [],
   "source": [
    "#create app password in your google account\n",
    "#set system environment variableas shown below for mail account and app password"
   ]
  },
  {
   "cell_type": "code",
   "execution_count": 10,
   "id": "71d93c78",
   "metadata": {},
   "outputs": [],
   "source": [
    "#import getpass\n",
    "EMAIL_ADDRESS=os.environ.get(\"Email_User\")\n",
    "EMAIL_PASSWORD=os.environ.get(\"Email_Password\")\n",
    "#EMAIL_PASSWORD=getpass.getpass('Enter password')"
   ]
  },
  {
   "cell_type": "code",
   "execution_count": null,
   "id": "987e83a5",
   "metadata": {},
   "outputs": [],
   "source": [
    "\n",
    "with (smtplib.SMTP('smtp.gmail.com',587))  as  smtp : #connecting to mail server  port -587\n",
    "    smtp.ehlo()   #sends message data to server\n",
    "    smtp.starttls() \n",
    "    #StartTLS is a protocol command used to inform the email server that the email client wants to upgrade from an insecure connection to a secure one using TLS or SSL.\n",
    "    smtp.ehlo() # now data will be encrypted\n",
    "    smtp.login(EMAIL_ADDRESS,EMAIL_PASSWORD)\n",
    "    subject=\"Invitation for an excursion\"\n",
    "    body=\"Letus plan on weekend\"\n",
    "    msg=f'subject : {subject}  \\n\\n\\n {body}'\n",
    "    smtp.sendmail(EMAIL_ADDRESS,EMAIL_ADDRESS,msg)"
   ]
  },
  {
   "cell_type": "markdown",
   "id": "bf84c6da",
   "metadata": {},
   "source": [
    "# debugging server\n",
    "This nifty module allows you to run a local mail relay which will print the messages it receives to standard out. To enable Debugging server \n",
    "it you can load the smtpd module and instruct it to run the DebuggingServer command on the IP and port passed as arguments:\n",
    "\n",
    "# python -m smtpd -c DebuggingServer -n localhost:1025 to run localhost\n",
    "\n",
    "This will fire up a local mail server on localhost:8025 and each messaged received will be printed to STDOUT. If I run my DNS domain expiration script and point it to localhost:8025:"
   ]
  },
  {
   "cell_type": "code",
   "execution_count": null,
   "id": "f39e8f7a",
   "metadata": {},
   "outputs": [],
   "source": [
    "with (smtplib.SMTP('localhost',1025))  as  smtp : #connecting to mail server  port -587\n",
    "    \n",
    "    \n",
    "    subject=\"Invitation for an excursion\"\n",
    "    body=\"Lets plan on weekend\"\n",
    "    msg=f'subject : {subject}  \\n\\n\\n {body}'\n",
    "    smtp.sendmail(EMAIL_ADDRESS,EMAIL_ADDRESS,msg)"
   ]
  },
  {
   "cell_type": "markdown",
   "id": "6a4a89a2",
   "metadata": {},
   "source": [
    "# Creating secured connection using SSL"
   ]
  },
  {
   "cell_type": "markdown",
   "id": "b01097f2",
   "metadata": {},
   "source": [
    "# When you send emails through Python, you should make sure that your SMTP connection is encrypted, so that your message and login credentials are not easily accessed by others. SSL (Secure Sockets Layer) and TLS (Transport Layer Security) are two protocols that can be used to encrypt an SMTP connection. It’s not necessary to use either of these when using a local debugging server.\n",
    "\n",
    "There are two ways to start a secure connection with your email server:\n",
    "\n",
    "Start an SMTP connection that is secured from the beginning using SMTP_SSL().\n",
    "Start an unsecured SMTP connection that can then be encrypted using .starttls()."
   ]
  },
  {
   "cell_type": "code",
   "execution_count": 4,
   "id": "dd44d82b",
   "metadata": {},
   "outputs": [
    {
     "ename": "SyntaxError",
     "evalue": "invalid syntax (<ipython-input-4-aca855baf361>, line 28)",
     "output_type": "error",
     "traceback": [
      "\u001b[1;36m  File \u001b[1;32m\"<ipython-input-4-aca855baf361>\"\u001b[1;36m, line \u001b[1;32m28\u001b[0m\n\u001b[1;33m    except smtplib.SMTPException::\u001b[0m\n\u001b[1;37m                                 ^\u001b[0m\n\u001b[1;31mSyntaxError\u001b[0m\u001b[1;31m:\u001b[0m invalid syntax\n"
     ]
    }
   ],
   "source": [
    "import imghdr\n",
    "try:\n",
    "    contacts=['shaluduggal14@gmail.com']\n",
    "    msg=EmailMessage()\n",
    "    msg['Subject']='Lets Watch Movie'\n",
    "    msg['From']=EMAIL_ADDRESS\n",
    "    msg['To']=','.join(contacts)\n",
    "    msg.set_content(\"Letus make  plan a to watchmovie this sunday\")\n",
    "    msg.add_alternative(\"\"\"\\\n",
    "    <html>\n",
    "    <body>\n",
    "    <b>Hello This is my html file</b>\n",
    "    </body>\n",
    "    </html>\"\"\",subtype='html')\n",
    "    \n",
    "    files=[\"my.png\"]\n",
    "    for file in files:\n",
    "        with open(file, 'rb') as fp:\n",
    "            img_data = fp.read()\n",
    "            file_type=imghdr.what(fp.name) #checking file type\n",
    "            file_name=fp.name\n",
    "        msg.add_attachment(img_data, maintype='image',subtype=file_type,filename=file_name)\n",
    "    context = ssl.create_default_context()\n",
    "    smtp=smtplib.SMTP_SSL('smtp.gmail.com',465,context=context)             #connecting to mail server  port -465\n",
    "    smtp.login(EMAIL_ADDRESS,EMAIL_PASSWORD)\n",
    "    smtp.send_message(msg)\n",
    "                                 \n",
    "except smtplib.SMTPException::\n",
    "    print ('Error -')\n",
    "    print(e)\n",
    "finally:\n",
    "    smtp.quit()    "
   ]
  },
  {
   "cell_type": "code",
   "execution_count": 12,
   "id": "0f4e1c93",
   "metadata": {},
   "outputs": [],
   "source": [
    "contacts=['shaluduggal14@gmail.com']\n",
    "msg=MIMEMultipart()\n",
    "msg['Subject']='Lets Watch Movie'\n",
    "msg['From']=EMAIL_ADDRESS\n",
    "msg['To']=','.join(contacts)\n",
    "text=  MIMEText('Hello message from my side','plain')\n",
    "msg.attach(text)\n",
    "context = ssl.create_default_context()\n",
    "with smtplib.SMTP_SSL('smtp.gmail.com',465,context=context) as smtp:             #connecting to mail server  port -465\n",
    "    smtp.login(EMAIL_ADDRESS,EMAIL_PASSWORD)\n",
    "    smtp.send_message(msg)"
   ]
  }
 ],
 "metadata": {
  "kernelspec": {
   "display_name": "Python 3",
   "language": "python",
   "name": "python3"
  },
  "language_info": {
   "codemirror_mode": {
    "name": "ipython",
    "version": 3
   },
   "file_extension": ".py",
   "mimetype": "text/x-python",
   "name": "python",
   "nbconvert_exporter": "python",
   "pygments_lexer": "ipython3",
   "version": "3.8.10"
  }
 },
 "nbformat": 4,
 "nbformat_minor": 5
}
