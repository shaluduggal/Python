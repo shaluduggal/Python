{
 "cells": [
  {
   "cell_type": "code",
   "execution_count": null,
   "id": "7b283686",
   "metadata": {},
   "outputs": [],
   "source": [
    "from threading import *"
   ]
  },
  {
   "cell_type": "markdown",
   "id": "bc1f406f",
   "metadata": {},
   "source": [
    "# Threading\n",
    "Python threading allows you to have different parts of your program run concurrently and can simplify your design\n",
    " thread is a separate flow of execution. \n",
    " This means that your program will have two things happening at once. \n",
    " It’s tempting to think of threading as having two (or more) different processors running on your program, each one doing an independent task at the same time.\n",
    " "
   ]
  },
  {
   "cell_type": "code",
   "execution_count": null,
   "id": "92435cfb",
   "metadata": {},
   "outputs": [],
   "source": [
    "print(current_thread().getName())"
   ]
  },
  {
   "cell_type": "code",
   "execution_count": null,
   "id": "baec054e",
   "metadata": {},
   "outputs": [],
   "source": [
    "#without any class\n",
    "def thread_function():   #code execution by child thread\n",
    "    for i in range(3):\n",
    "        print('\\nChild thread working -  value is ',i,current_thread().getName())\n",
    "\n",
    "print('\\nNumber of active threads',active_count())\n",
    "t1=Thread(target=thread_function,name='child1')\n",
    "t2=Thread(target=thread_function,name='child2')\n",
    "t2.start()\n",
    "t1.start()\n",
    "\n",
    "print('\\nNumber of active threads',active_count())\n",
    "print('\\nChild1 thread identification =',t1.ident)\n",
    "print('\\nChild2 thread identification =',t1.ident)\n",
    "print('\\n  {} is alive   {}'.format(t1.name,t1.isAlive()))\n",
    "print('\\nMain thread identification =',current_thread().ident)\n",
    "for j in range(1,10):     # code execution by main thread\n",
    "    print('\\nMain thread working -  value is ',j,current_thread().getName())\n",
    "time.sleep(6)\n",
    "print('\\nNumber of active threads',active_count())"
   ]
  },
  {
   "cell_type": "code",
   "execution_count": null,
   "id": "de1bea54",
   "metadata": {},
   "outputs": [],
   "source": [
    "threads=enumerate()  #checking all threads active presently\n",
    "for t in threads:\n",
    "    print('Thread name',t.name)\n",
    "    print('Thread name',t.ident)\n",
    "    print('Thread Daemon true or false ---',t.isDaemon())\n",
    "    print('*'*30)\n",
    "    "
   ]
  },
  {
   "cell_type": "code",
   "execution_count": null,
   "id": "ce69187e",
   "metadata": {},
   "outputs": [],
   "source": [
    "#creating thread class\n",
    "class mythread(Thread):\n",
    "    def run(self):\n",
    "        for i in range(10):\n",
    "            print('Child thread working -  value is ',i,current_thread().getName())\n",
    "t=mythread()    \n",
    "t.start()\n",
    "for j in range(1,10):     # code execution by main thread\n",
    "    print('Main thread working -  value is ',j,current_thread().getName())"
   ]
  },
  {
   "cell_type": "code",
   "execution_count": null,
   "id": "e3a1aa0c",
   "metadata": {},
   "outputs": [],
   "source": [
    "#Without Thread class inheritance\n",
    "class class1():\n",
    "    def m1(self):\n",
    "        for i in range(10):\n",
    "            print('Child thread  calling m1 method in object ',i,current_thread().getName())\n",
    "obj=class1()\n",
    "t=Thread(target=obj.m1)    \n",
    "t.start()\n",
    "print('Whether t is daemon thread   ',t.isDaemon())\n",
    "for j in range(1,10):     # code execution by main thread\n",
    "    print('Main thread working -  value is ',j,current_thread().getName())"
   ]
  },
  {
   "cell_type": "code",
   "execution_count": null,
   "id": "b6c2c38e",
   "metadata": {},
   "outputs": [],
   "source": [
    "import time\n",
    "def cube(n):\n",
    "    for i in n:\n",
    "        time.sleep(1)\n",
    "        print('Cube of {}  is {}'.format(i,i*i*i))\n",
    "def square(n):\n",
    "    for i in n:\n",
    "        time.sleep(1)\n",
    "        print('square of {}  is {}'.format(i,i*i))\n",
    "start_time=time.time()\n",
    "list=[1,2,3,4,5,6,7,8,9,10]\n",
    "t1=Thread(target=cube,args=(list,))\n",
    "t2=Thread(target=square,args=(list,))\n",
    "t1.start()\n",
    "t2.start()\n",
    "#cube(list)\n",
    "#square(list)\n",
    "t1.join()  #main thread will wait till t1,t2 finishes\n",
    "t2.join(8)  #wait for 8 secs only\n",
    "end_time=time.time()\n",
    "print('Total time taken is {}'.format(end_time-start_time))"
   ]
  },
  {
   "cell_type": "code",
   "execution_count": null,
   "id": "8561cbef",
   "metadata": {},
   "outputs": [],
   "source": [
    "l=enumerate()\n",
    "for i in l:\n",
    "    print('Thread name is {} and id is {}   and thread is daemon --'.format(l.getName(),l.ident,l.isDaemon()))"
   ]
  },
  {
   "cell_type": "markdown",
   "id": "dfd85dfe",
   "metadata": {},
   "source": [
    "# Daemon Threads\n",
    "In computer science, a daemon is a process that runs in the background.\n",
    "\n",
    "Python threading has a more specific meaning for daemon.\n",
    "A daemon thread will shut down immediately when the program exits.\n",
    "The daemon thread a thread that runs in the background without worrying about shutting it down.\n",
    "If a program is running Threads that are not daemons, then the program will wait for those threads to complete before it terminates. \n",
    "Threads that are daemons, however, are just killed wherever they are when the program is exiting.\n",
    "Garbage collector  -- daemon thread \n",
    "if parent is daemon child thread will always be daemons (inherited property) change nature of thread before exe-- thread.setDaemon()\n"
   ]
  },
  {
   "cell_type": "code",
   "execution_count": null,
   "id": "44cd27ab",
   "metadata": {},
   "outputs": [],
   "source": [
    "def thrd_fun():\n",
    "    print('Child1 thread executed')\n",
    "    t2=Thread(target=thrd_fun1)\n",
    "    print('Is t2 daemon',t2.isDaemon())\n",
    "    t2.start()\n",
    "\n",
    "def thrd_fun1():\n",
    "    print('Child of child1 thread executed')\n",
    "\n",
    "    \n",
    "    \n",
    "t1=Thread(target=thrd_fun)\n",
    "#t1.setDaemon(True)    give instruction make t1 and child thread of t1 as daemon threads\n",
    "print('Is t1 daemon',t1.isDaemon())\n",
    "t1.start()"
   ]
  },
  {
   "cell_type": "code",
   "execution_count": null,
   "id": "d3495b60",
   "metadata": {},
   "outputs": [],
   "source": [
    "def job():\n",
    "    for i in range(10):\n",
    "        print('Child1 thread executed')\n",
    "        time.sleep(2)\n",
    "\n",
    "t1=Thread(target=job,daemon=True)\n",
    "#t1.setDaemon(True)  #daemon thread terminates as main terminates but non daemon completes their execution before termination\n",
    "t1.start()\n",
    "print('main thread executed')"
   ]
  }
 ],
 "metadata": {
  "kernelspec": {
   "display_name": "Python 3",
   "language": "python",
   "name": "python3"
  },
  "language_info": {
   "codemirror_mode": {
    "name": "ipython",
    "version": 3
   },
   "file_extension": ".py",
   "mimetype": "text/x-python",
   "name": "python",
   "nbconvert_exporter": "python",
   "pygments_lexer": "ipython3",
   "version": "3.8.10"
  }
 },
 "nbformat": 4,
 "nbformat_minor": 5
}
