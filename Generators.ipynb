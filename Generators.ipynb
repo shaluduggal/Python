{
 "cells": [
  {
   "cell_type": "code",
   "execution_count": 2,
   "id": "6ccb606d",
   "metadata": {},
   "outputs": [],
   "source": [
    "import warnings\n",
    "warnings.filterwarnings(\"ignore\")"
   ]
  },
  {
   "cell_type": "code",
   "execution_count": null,
   "id": "2616f15f",
   "metadata": {},
   "outputs": [],
   "source": []
  },
  {
   "cell_type": "code",
   "execution_count": null,
   "id": "a348cbaf",
   "metadata": {},
   "outputs": [],
   "source": []
  },
  {
   "cell_type": "code",
   "execution_count": 3,
   "id": "a46edff5",
   "metadata": {},
   "outputs": [
    {
     "name": "stdout",
     "output_type": "stream",
     "text": [
      "<function fun_1 at 0x00000239389140D0>\n",
      "returned output is list [1, 4, 9]\n",
      "returned output is  <generator object fun_gen at 0x00000239389164A0>\n",
      "values generated :\n",
      "16\n",
      "25\n",
      "36\n"
     ]
    }
   ],
   "source": [
    "def fun_1(x):   #it is a function as returning list of squares\n",
    "\n",
    "  A=[i*i for i in x]  #creating list\n",
    "  return A\n",
    "\n",
    "print(fun_1)\n",
    "list=[1,2,3]\n",
    "l=fun_1(list)\n",
    "print('returned output is list',l)\n",
    "    \n",
    "def fun_gen(x):   #it is a generator  as yielding values \n",
    "  for i in x:\n",
    "    yield (i*i)\n",
    "a=[4,5,6]\n",
    "l=fun_gen(a) #here l is a generaotor object\n",
    "print('returned output is ',l)\n",
    "print('values generated :')\n",
    "for val in l:  #retrieving  values \n",
    "  print(val)\n",
    "\n",
    "def fun_generator(professionals):\n",
    "    for i in xrange(professionals):\n",
    "        person = {\n",
    "                    'id': i,\n",
    "                    'name': random.choice(names),\n",
    "                    'profession': random.choice(profession)\n",
    "                }\n",
    "        yield person\n",
    "def function_list(professional):\n",
    "    result = []\n",
    "    for i in range(professional):\n",
    "        person = {\n",
    "                    'id': i,\n",
    "                    'name': random.choice(names),\n",
    "                    'profession': random.choice(profession)\n",
    "                }\n",
    "        result.append(person)\n",
    "    return result\n"
   ]
  },
  {
   "cell_type": "markdown",
   "id": "f29c7e41",
   "metadata": {},
   "source": [
    "**Use of generators :**\n",
    "Generator functions allow you to declare a function that behaves like an iterator. Iterators don’t compute the value of each item when instantiated. They only compute it when you ask for it. This is known as lazy evaluation.Lazy evaluation is useful when you have a very large data set to compute. It allows you to start using the data immediately, while the whole data set is being computed.\n"
   ]
  },
  {
   "cell_type": "code",
   "execution_count": 4,
   "id": "ab5c80ec",
   "metadata": {},
   "outputs": [
    {
     "name": "stdout",
     "output_type": "stream",
     "text": [
      "[1, 100, 81, 0]\n",
      "<generator object <genexpr> at 0x0000023938916660>\n",
      "1\n",
      "100\n",
      "81\n",
      "0\n"
     ]
    }
   ],
   "source": [
    "myfirstlist = [1, 10,9,0]\n",
    "listmy = [k**2 for k in myfirstlist]   #creating list\n",
    "generator = (k**2 for k in myfirstlist) # () : paranethesis creating generator instead of list\n",
    "print(listmy)\n",
    "print(generator)\n",
    "for gen in generator:\n",
    "    print(gen)"
   ]
  },
  {
   "cell_type": "markdown",
   "id": "3bb637b8",
   "metadata": {},
   "source": [
    "Advantages of Python Generators\n",
    "Highly Memory Efficient\n",
    "A normal function to return a sequence will create the entire sequence in memory before returning the result within the runtime itself.\n",
    "\n",
    "3. Represent Infinite Stream\n",
    "Generators can represent the length of a series of infinite numbers taken at a time. And this is supported by the library function.\n",
    "\n",
    "4. Pipelining Generators in Python\n",
    "Multiple generators can be used to pipeline a series of operations within the runtime itself.\n",
    "\n",
    "```\n"
   ]
  },
  {
   "cell_type": "code",
   "execution_count": 8,
   "id": "7a173ebe",
   "metadata": {},
   "outputs": [
    {
     "name": "stdout",
     "output_type": "stream",
     "text": [
      "Requirement already satisfied: memory_profiler in c:\\users\\dell\\anaconda3\\envs\\nlp\\lib\\site-packages (0.58.0)\n",
      "Requirement already satisfied: psutil in c:\\users\\dell\\anaconda3\\envs\\nlp\\lib\\site-packages (from memory_profiler) (5.8.0)\n",
      "Collecting Pympler\n",
      "  Downloading Pympler-0.9.tar.gz (178 kB)\n",
      "Building wheels for collected packages: Pympler\n",
      "  Building wheel for Pympler (setup.py): started\n",
      "  Building wheel for Pympler (setup.py): finished with status 'done'\n",
      "  Created wheel for Pympler: filename=Pympler-0.9-py3-none-any.whl size=164803 sha256=57530ebca76749acd34f222dce7299afdf32005201279127560d1723876e88e1\n",
      "  Stored in directory: c:\\users\\dell\\appdata\\local\\pip\\cache\\wheels\\24\\6f\\0b\\da9f81234859a8741aaea3afcc6ae2daf0efb67e7ff2d3686c\n",
      "Successfully built Pympler\n",
      "Installing collected packages: Pympler\n",
      "Successfully installed Pympler-0.9\n"
     ]
    }
   ],
   "source": [
    "#Cheecking memory utilization \n",
    "!pip install -U memory_profiler\n",
    "!pip install Pympler"
   ]
  },
  {
   "cell_type": "code",
   "execution_count": 12,
   "id": "31ac16b7",
   "metadata": {},
   "outputs": [
    {
     "name": "stdout",
     "output_type": "stream",
     "text": [
      "Memory (before) : [50.6171875]Mb\n",
      "Memory (After) : [321.1484375]Mb\n",
      " Time taken to create list  1.152130126953125 Seconds\n"
     ]
    }
   ],
   "source": [
    "import memory_profiler as mem_profile\n",
    "import random\n",
    "import time\n",
    "names = ['Sheetal ', 'Anupriya', 'Jasmine', 'Arya']\n",
    "profession = ['Education', 'Engineer', 'Banker', 'Business']\n",
    "print('Memory (before) : {}Mb'.format(mem_profile.memory_usage()))\n",
    "t1 = time.time()\n",
    "list = function_list(1000000)\n",
    "t2 = time.time()\n",
    "\n",
    "#t1 = time.time()\n",
    "#generator = fun_generator(1000000)\n",
    "#t2 = time.time()\n",
    "print('Memory (After) : {}Mb'.format(mem_profile.memory_usage()))\n",
    "print(' Time taken to create list  {} Seconds'.format(t2-t1))\n",
    " #output in case of list   \n",
    "#Memory (before) : [490.8359375]Mb\n",
    "#Memory (After) : [489.26171875]Mb\n",
    "#Time taken to create list  2.301082000000001 Seconds\n",
    "\n",
    "\n",
    "#output in case of generator\n",
    "#"
   ]
  },
  {
   "cell_type": "markdown",
   "id": "2806bbd6",
   "metadata": {},
   "source": [
    "Output in case of Generator\n",
    "Memory (before) : [50.6015625]Mb\n",
    "Memory (After) : [50.6015625]Mb\n",
    " Time taken to create list  0.0 Seconds\n",
    "\n",
    "output in case of list\n",
    "Memory (before) : [50.6171875]Mb\n",
    "Memory (After) : [321.1484375]Mb\n",
    " Time taken to create list  1.152130126953125 Seconds"
   ]
  }
 ],
 "metadata": {
  "kernelspec": {
   "display_name": "Python 3",
   "language": "python",
   "name": "python3"
  },
  "language_info": {
   "codemirror_mode": {
    "name": "ipython",
    "version": 3
   },
   "file_extension": ".py",
   "mimetype": "text/x-python",
   "name": "python",
   "nbconvert_exporter": "python",
   "pygments_lexer": "ipython3",
   "version": "3.8.10"
  }
 },
 "nbformat": 4,
 "nbformat_minor": 5
}
