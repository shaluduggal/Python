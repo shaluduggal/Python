{
  "nbformat": 4,
  "nbformat_minor": 0,
  "metadata": {
    "colab": {
      "name": "Generators.ipynb",
      "provenance": [],
      "collapsed_sections": [],
      "authorship_tag": "ABX9TyMDnyaQqtdx3sY9YoPniuaV",
      "include_colab_link": true
    },
    "kernelspec": {
      "name": "python3",
      "display_name": "Python 3"
    },
    "language_info": {
      "name": "python"
    }
  },
  "cells": [
    {
      "cell_type": "markdown",
      "metadata": {
        "id": "view-in-github",
        "colab_type": "text"
      },
      "source": [
        "<a href=\"https://colab.research.google.com/github/shaluduggal/Python/blob/machinelearning/Generators.ipynb\" target=\"_parent\"><img src=\"https://colab.research.google.com/assets/colab-badge.svg\" alt=\"Open In Colab\"/></a>"
      ]
    },
    {
      "cell_type": "code",
      "metadata": {
        "id": "3MWHwgYg2xm6"
      },
      "source": [
        "import warnings\n",
        "warnings.filterwarnings(\"ignore\")"
      ],
      "execution_count": 74,
      "outputs": []
    },
    {
      "cell_type": "markdown",
      "metadata": {
        "id": "P0IvsGFO29DN"
      },
      "source": [
        "#Generator-Function : A generator-function is  like a normal function, but it doesnot return a value  rather  generate a value using yield keyword.Hence a function which contain yield rather than retun becomes a generator function"
      ]
    },
    {
      "cell_type": "markdown",
      "metadata": {
        "id": "NHiVDj5r3c7A"
      },
      "source": [
        ""
      ]
    },
    {
      "cell_type": "code",
      "metadata": {
        "id": "22w9Eqt43nI1"
      },
      "source": [
        "def fun_1(x):   #it is a function as returning list of squares\n",
        "\n",
        "  A=[i*i for i in x]  #creating list\n",
        "  return A\n",
        "\n",
        "print(fun_1)\n",
        "list=[1,2,3]\n",
        "l=fun_1(list)\n",
        "print('returned output is list',l)\n",
        "    "
      ],
      "execution_count": null,
      "outputs": []
    },
    {
      "cell_type": "code",
      "metadata": {
        "id": "02ESgL-h4OQl"
      },
      "source": [
        "def fun_gen(x):   #it is a generator  as yielding values \n",
        "  for i in x:\n",
        "    yield (i*i)\n",
        "a=[4,5,6]\n",
        "l=fun_gen(a) #here l is a generaotor object\n",
        "print('returned output is ',l)\n",
        "print('values generated :')\n",
        "for val in l:  #retrieving  values \n",
        "  print(val)\n",
        "\n",
        "    "
      ],
      "execution_count": null,
      "outputs": []
    },
    {
      "cell_type": "markdown",
      "metadata": {
        "id": "G8qyisPB8NJ0"
      },
      "source": [
        "**Use of generators :**\n",
        "Generator functions allow you to declare a function that behaves like an iterator. Iterators don’t compute the value of each item when instantiated. They only compute it when you ask for it. This is known as lazy evaluation.Lazy evaluation is useful when you have a very large data set to compute. It allows you to start using the data immediately, while the whole data set is being computed.\n"
      ]
    },
    {
      "cell_type": "code",
      "metadata": {
        "colab": {
          "base_uri": "https://localhost:8080/"
        },
        "id": "27BvIvOu9qVm",
        "outputId": "edc8d8a6-a551-421c-d2f9-2e6ba13caaf6"
      },
      "source": [
        "myfirstlist = [1, 10,9,0]\n",
        "listmy = [k**2 for k in myfirstlist]   #creating list\n",
        "generator = (k**2 for k in myfirstlist) # () : paranethesis creating generator instead of list\n",
        "print(listmy)\n",
        "print(generator)\n",
        "for gen in generator:\n",
        "  print(gen)"
      ],
      "execution_count": 33,
      "outputs": [
        {
          "output_type": "stream",
          "text": [
            "[1, 100, 81, 0]\n",
            "<generator object <genexpr> at 0x7f5d2a4f17d0>\n",
            "1\n",
            "100\n",
            "81\n",
            "0\n"
          ],
          "name": "stdout"
        }
      ]
    },
    {
      "cell_type": "markdown",
      "metadata": {
        "id": "_LKJEgJO-98o"
      },
      "source": [
        "\n",
        "Advantages of Python Generators\n",
        "Highly Memory Efficient\n",
        "A normal function to return a sequence will create the entire sequence in memory before returning the result within the runtime itself.\n",
        "\n",
        "3. Represent Infinite Stream\n",
        "Generators can represent the length of a series of infinite numbers taken at a time. And this is supported by the library function.\n",
        "\n",
        "4. Pipelining Generators in Python\n",
        "Multiple generators can be used to pipeline a series of operations within the runtime itself.\n",
        "\n",
        "```\n",
        "\n"
      ]
    },
    {
      "cell_type": "code",
      "metadata": {
        "colab": {
          "base_uri": "https://localhost:8080/"
        },
        "id": "U7lbPqYRJdm0",
        "outputId": "e47f2388-5077-4d08-eb3a-e5266d159e4e"
      },
      "source": [
        "#Cheecking memory utilization \n",
        "#!pip install -U memory_profiler\n",
        "#!pip install Pympler"
      ],
      "execution_count": 51,
      "outputs": [
        {
          "output_type": "stream",
          "text": [
            "Collecting Pympler\n",
            "\u001b[?25l  Downloading https://files.pythonhosted.org/packages/e8/e2/2f3a086701bb62b1c478a3921836271177838a3c98cdc6b82c3bb36d3854/Pympler-0.9.tar.gz (178kB)\n",
            "\r\u001b[K     |█▉                              | 10kB 5.0MB/s eta 0:00:01\r\u001b[K     |███▊                            | 20kB 8.4MB/s eta 0:00:01\r\u001b[K     |█████▌                          | 30kB 11.1MB/s eta 0:00:01\r\u001b[K     |███████▍                        | 40kB 13.3MB/s eta 0:00:01\r\u001b[K     |█████████▏                      | 51kB 15.1MB/s eta 0:00:01\r\u001b[K     |███████████                     | 61kB 16.7MB/s eta 0:00:01\r\u001b[K     |████████████▉                   | 71kB 17.6MB/s eta 0:00:01\r\u001b[K     |██████████████▊                 | 81kB 18.0MB/s eta 0:00:01\r\u001b[K     |████████████████▌               | 92kB 18.9MB/s eta 0:00:01\r\u001b[K     |██████████████████▍             | 102kB 19.5MB/s eta 0:00:01\r\u001b[K     |████████████████████▏           | 112kB 19.5MB/s eta 0:00:01\r\u001b[K     |██████████████████████          | 122kB 19.5MB/s eta 0:00:01\r\u001b[K     |███████████████████████▉        | 133kB 19.5MB/s eta 0:00:01\r\u001b[K     |█████████████████████████▊      | 143kB 19.5MB/s eta 0:00:01\r\u001b[K     |███████████████████████████▋    | 153kB 19.5MB/s eta 0:00:01\r\u001b[K     |█████████████████████████████▍  | 163kB 19.5MB/s eta 0:00:01\r\u001b[K     |███████████████████████████████▎| 174kB 19.5MB/s eta 0:00:01\r\u001b[K     |████████████████████████████████| 184kB 19.5MB/s \n",
            "\u001b[?25hBuilding wheels for collected packages: Pympler\n",
            "  Building wheel for Pympler (setup.py) ... \u001b[?25l\u001b[?25hdone\n",
            "  Created wheel for Pympler: filename=Pympler-0.9-cp37-none-any.whl size=164825 sha256=9e8c8b89aca154632e3a45fc748a542422d027f03a01fee75d5eed1903a2fac9\n",
            "  Stored in directory: /root/.cache/pip/wheels/23/15/5a/90dd23b3ceffcf8463dc737fba4fad3e295d1da52622bbb74f\n",
            "Successfully built Pympler\n",
            "Installing collected packages: Pympler\n",
            "Successfully installed Pympler-0.9\n"
          ],
          "name": "stdout"
        }
      ]
    },
    {
      "cell_type": "code",
      "metadata": {
        "id": "Xk5lvk0CngD5"
      },
      "source": [
        "def function_list(professional):\n",
        "    result = []\n",
        "    for i in range(professional):\n",
        "        person = {\n",
        "                    'id': i,\n",
        "                    'name': random.choice(names),\n",
        "                    'profession': random.choice(profession)\n",
        "                }\n",
        "        result.append(person)\n",
        "    return result\n"
      ],
      "execution_count": 86,
      "outputs": []
    },
    {
      "cell_type": "code",
      "metadata": {
        "id": "GG3sxra1ni1y"
      },
      "source": [
        "def fun_generator(professionals):\n",
        "    for i in xrange(professionals):\n",
        "        person = {\n",
        "                    'id': i,\n",
        "                    'name': random.choice(names),\n",
        "                    'profession': random.choice(profession)\n",
        "                }\n",
        "        yield person\n"
      ],
      "execution_count": 87,
      "outputs": []
    },
    {
      "cell_type": "code",
      "metadata": {
        "colab": {
          "base_uri": "https://localhost:8080/"
        },
        "id": "QUv1KlnmJ67Q",
        "outputId": "cb40cb3d-bf76-4949-99d9-a9faf5238b75"
      },
      "source": [
        "import memory_profiler as mem_profile\n",
        "import random\n",
        "import time\n",
        "names = ['Sheetal ', 'Anupriya', 'Jasmine', 'Arya']\n",
        "profession = ['Education', 'Engineer', 'Banker', 'Business']\n",
        "print('Memory (before) : {}Mb'.format(mem_profile.memory_usage()))\n",
        "#t1 = time.clock()\n",
        "#list = function_list(1000000)\n",
        "#t2 = time.clock()\n",
        "\n",
        "t1 = time.clock()\n",
        "generator = fun_generator(1000000)\n",
        "t2 = time.clock()\n",
        "print('Memory (After) : {}Mb'.format(mem_profile.memory_usage()))\n",
        "print(' Time taken to create list  {} Seconds'.format(t2-t1))\n",
        " #output in case of list   \n",
        "#Memory (before) : [490.8359375]Mb\n",
        "#Memory (After) : [489.26171875]Mb\n",
        "#Time taken to create list  2.301082000000001 Seconds\n",
        "\n",
        "\n",
        "#output in case of generator\n",
        "#"
      ],
      "execution_count": 96,
      "outputs": [
        {
          "output_type": "stream",
          "text": [
            "Memory (before) : [488.76171875]Mb\n",
            "Memory (After) : [488.76171875]Mb\n",
            " Time taken to create list  6.199999999978445e-05 Seconds\n"
          ],
          "name": "stdout"
        }
      ]
    },
    {
      "cell_type": "code",
      "metadata": {
        "id": "cmFwH8iGN60N"
      },
      "source": [
        ""
      ],
      "execution_count": 82,
      "outputs": []
    }
  ]
}