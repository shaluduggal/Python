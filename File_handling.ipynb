{
 "cells": [
  {
   "cell_type": "code",
   "execution_count": 2,
   "id": "61811ab3",
   "metadata": {},
   "outputs": [],
   "source": [
    "import os"
   ]
  },
  {
   "cell_type": "markdown",
   "id": "48d856d1",
   "metadata": {},
   "source": [
    "# Types of modes of file object\n",
    "Text files, Binary Files\n",
    "\n",
    "#modes for text file r, w , a , r+(read and then write), w+ (write an dthen read , \n",
    "overwrite existing file), a+(add at end of and read), x(Exclusive mode for writing on nonexisting file)\n",
    "\n",
    "\n",
    "#modes for binary file rb, wb , ab , r+b(read and then write), w+b (write an dthen read , \n",
    "overwrite existing file), a+b(add at end of and read), xb(Exclusive mode for writing on nonexisting file)\n"
   ]
  },
  {
   "cell_type": "markdown",
   "id": "dc447ccb",
   "metadata": {},
   "source": [
    "\n",
    "# Types of attributes of file object\n",
    " \n",
    "\n",
    "1.file.closed : This will return True if file is closed,else returns False\n",
    "2.file.mode : This will return access mode of file in which the file has been opened\n",
    "3.file.name : This will return Name of the file\n",
    "4.file.readable\n",
    "5. file.writable "
   ]
  },
  {
   "cell_type": "code",
   "execution_count": null,
   "id": "127070a6",
   "metadata": {},
   "outputs": [],
   "source": [
    "import os\n",
    "fname=input('Enter file name')\n",
    "if os.path.isfile(fname):\n",
    "    f=open('abc.txt','a')\n",
    "    print('file properties :  name  , mode   , readable   or writable  :   or closed')\n",
    "    print('_'*100)\n",
    "    print('              ',f.name,'   ',f.mode,'       ',f.readable(),'         ',f.writable(),'    ',f.closed)\n",
    "    f.close()\n",
    "else:\n",
    "    print('file doesnot exist')\n",
    "    "
   ]
  },
  {
   "cell_type": "markdown",
   "id": "2c974bc4",
   "metadata": {},
   "source": [
    "# Total line, words and characters in file"
   ]
  },
  {
   "cell_type": "code",
   "execution_count": null,
   "id": "da11c5ec",
   "metadata": {},
   "outputs": [],
   "source": [
    "fname=input('Enter file name')\n",
    "lcount=wcount=ccount=0\n",
    "if os.path.isfile(fname):\n",
    "    f=open('abc.txt','r')\n",
    "    for l in f:\n",
    "        lcount +=1\n",
    "        wcount +=len(l.split())\n",
    "        ccount +=len(l)\n",
    "    \n",
    "    print('Total lines--{}\\n\\n'.format(lcount))\n",
    "    print('Total Words--{}\\n\\n'.format(wcount))\n",
    "    print('Total Characters--{}\\n\\n'.format(ccount))\n",
    "        "
   ]
  },
  {
   "cell_type": "code",
   "execution_count": null,
   "id": "1e9b5f19",
   "metadata": {},
   "outputs": [],
   "source": [
    "#writing in the file\n",
    "\n",
    "f=open('abc.txt','a')\n",
    "f.write('This is the text file storing information about daily routine \\n')\n",
    "f.write('Life is hecticbut I don\\'t mis certsin things.\\n')\n",
    "f.write('Always thanks the Almighty for what you have and what you don\\'t have\\n')\n",
    "f.close()"
   ]
  },
  {
   "cell_type": "code",
   "execution_count": null,
   "id": "d03637d5",
   "metadata": {},
   "outputs": [],
   "source": [
    "#writing multiple lines\n",
    "f=open('abc.txt','a')\n",
    "list=('Good morning all/n','What a pleasant day today/n','Let us work now/n')\n",
    "f.writelines(list)\n",
    "f.close()"
   ]
  },
  {
   "cell_type": "code",
   "execution_count": null,
   "id": "91bc9eb7",
   "metadata": {},
   "outputs": [],
   "source": [
    "f=open('abc.txt','r')\n",
    "print('file properties :  name  , mode   , readable   or writable  :   or closed')\n",
    "print('_'*100)\n",
    "print('              ',f.name,'   ',f.mode,'       ',f.readable(),'         ',f.writable(),'    ',f.closed)\n",
    "list=f.readlines() #reading lines into list\n",
    "print('_'*100)\n",
    "print('_'*100)\n",
    "for i in list:\n",
    "    print(i,end=' ')"
   ]
  },
  {
   "cell_type": "markdown",
   "id": "d1c8add4",
   "metadata": {},
   "source": [
    "###### split() using file handling\n",
    "#We can also split lines using file handling in Python. This splits the variable when space is encountered. You can also split using any characters as we wish. Here is the code:\n",
    "\n",
    "with open(\"abc.txt\", \"r\") as file:   #no need to close file -- It automatically closes\n",
    "    data = file.readlines()\n",
    "    for line in data:\n",
    "        word = line.split()\n",
    "        print (word)"
   ]
  },
  {
   "cell_type": "markdown",
   "id": "1f85a01d",
   "metadata": {},
   "source": [
    "#  seek() \n",
    "sets the file's current position at the offset. The whence argument is optional and defaults to 0, which means \n",
    "absolute file positioning, other values are 1 which means seek relative to the current position and 2 means seek\n",
    "relative to the file's end.\n",
    "\n",
    "file.seek(n)   nth postion from begining\n",
    "ffile.seek(0)  Begining\n",
    "file.seek(offset,fromwhere)\n",
    "offset +ve non zero values allowed--  move forward   \n",
    "fromwhere   --- 0 begining\n",
    "            ----- 1 current position\n",
    "            ----- 2 end position"
   ]
  },
  {
   "cell_type": "markdown",
   "id": "efa65dbd",
   "metadata": {},
   "source": [
    "# tell() \n",
    "method returns current position of file object. This method takes no parameters and returns an integer value. Initially file pointer points to the beginning of the file(if not opened in append mode).\n",
    "So, the initial value of tell() is zero.\n",
    "\n",
    "\n",
    "Mode and file handler position \n",
    "Read mode ----  Begining of file\n",
    "write mode----  Begining of file\n",
    "append mode ----End of file\n",
    "\n"
   ]
  },
  {
   "cell_type": "code",
   "execution_count": null,
   "id": "cd5e7efc",
   "metadata": {},
   "outputs": [],
   "source": [
    "f=open('abc.txt','a')\n",
    "print('Current position',f.tell())\n",
    "f.write('This is the text file storing information about daily routine \\n')\n",
    "f.write('Life is hecticbut I don\\'t mis certsin things.\\n')\n",
    "f.write('Always thanks the Almighty for what you have and what you don\\'t have\\n')\n",
    "print('Current position after writing to file',f.tell())\n",
    "f.close()"
   ]
  },
  {
   "cell_type": "code",
   "execution_count": null,
   "id": "c31b598a",
   "metadata": {},
   "outputs": [],
   "source": [
    "f=open('abc.txt','r+')\n",
    "print('Current position',f.seek(0))  # r+ mode so we will be at begining\n",
    "n=f.readline()\n",
    "print('Data is--- \\'{}\\' ''\\n'.format(n))\n",
    "print('Current position',f.tell()) #check current position\n",
    "f.write('Writing new lines to file') \n",
    "f.seek(0)\n",
    "f.seek(10,0)#move 10 postion backward from current position\n",
    "n=f.readline()\n",
    "print('Data is \\\"{}\\\"\\n'.format(n))\n",
    "print('End  position is  ',f.tell())  #move to end\n",
    "f.close()"
   ]
  },
  {
   "cell_type": "markdown",
   "id": "8c903ad8",
   "metadata": {},
   "source": [
    "# Reading Binary data -- images, audio, video, pdf"
   ]
  },
  {
   "cell_type": "code",
   "execution_count": null,
   "id": "64df1463",
   "metadata": {},
   "outputs": [],
   "source": [
    "f=open('my.png','rb')\n",
    "f1=open('image2.jpg','wb')\n",
    "bytes=f.read()\n",
    "f1.write(bytes)\n",
    "f.close()\n",
    "f1.close()\n",
    "print('picture file copies')\n",
    "\n"
   ]
  },
  {
   "cell_type": "markdown",
   "id": "4b1dc71e",
   "metadata": {},
   "source": [
    "# Handling CSV files\n",
    "  csv files --- comma seperated files\n",
    "  csv -module for these files"
   ]
  },
  {
   "cell_type": "code",
   "execution_count": null,
   "id": "55f9093d",
   "metadata": {},
   "outputs": [],
   "source": [
    "import csv\n",
    "with open('myfile.csv','w',newline='') as f:\n",
    "    w=csv.writer(f)  #w here is python object pointing to csv file \n",
    "    w.writerow(['Name','Age'])\n",
    "    for i in range(1,6):\n",
    "        name=input('Enter name')\n",
    "        age=input('Enter age')\n",
    "        w.writerow([name,age])\n",
    "        "
   ]
  },
  {
   "cell_type": "code",
   "execution_count": null,
   "id": "eab64e29",
   "metadata": {},
   "outputs": [],
   "source": [
    "with open('myfile.csv','r') as f:\n",
    "    r=csv.reader(f)  #w here is python object pointing to csv file \n",
    "\n",
    "    data=list(r)\n",
    "    for row in data :\n",
    "        for col in row:\n",
    "            print(col,'\\t',end='')\n",
    "        print()\n",
    "        "
   ]
  },
  {
   "cell_type": "code",
   "execution_count": null,
   "id": "00fe7cf2",
   "metadata": {},
   "outputs": [],
   "source": [
    "with open('myfile.csv','r+') as f:\n",
    "    r=csv.reader(f)  #w here is python object pointing to csv file \n",
    "    w=csv.writer(f)\n",
    "    data=list(r)\n",
    "    for row in data :\n",
    "        if row[0]=='ria':\n",
    "            w.writerow([row[0],100])\n",
    "        "
   ]
  },
  {
   "cell_type": "code",
   "execution_count": null,
   "id": "a5887cd6",
   "metadata": {},
   "outputs": [],
   "source": [
    "with open('myfile.csv','r') as f:\n",
    "    r=csv.reader(f)  #w here is python object pointing to csv file \n",
    "\n",
    "    data=list(r)\n",
    "    for row in data :\n",
    "        for col in row:\n",
    "            print(col,'\\t',end='')\n",
    "        print()\n",
    "       "
   ]
  },
  {
   "cell_type": "markdown",
   "id": "7d2d179f",
   "metadata": {},
   "source": [
    "# Ziping and unziping files\n",
    "memory utilization\n",
    "transfer time saved"
   ]
  },
  {
   "cell_type": "code",
   "execution_count": null,
   "id": "856b81e7",
   "metadata": {},
   "outputs": [],
   "source": [
    "#zip file creation\n",
    "from zipfile import *\n",
    "f=ZipFile('data_zip.zip','w')  #creating Zip file\n",
    "f.write('file1.txt')\n",
    "f.write('file2.txt')\n",
    "f.close()"
   ]
  },
  {
   "cell_type": "code",
   "execution_count": null,
   "id": "21a0a30b",
   "metadata": {},
   "outputs": [],
   "source": [
    "from zipfile import *\n",
    "f=ZipFile('data_zip.zip','r')  #creating Zip file\n",
    "l=f.namelist()\n",
    "for i in l:\n",
    "    file=open(i,'r')\n",
    "    data=file.read()\n",
    "    print('Data in file is')\n",
    "    print('*'*30)\n",
    "    print('\\n   {}'.format(data))\n",
    "    \n",
    "    print('\\n')\n",
    "    "
   ]
  },
  {
   "cell_type": "markdown",
   "id": "1720edd6",
   "metadata": {},
   "source": [
    "# Working with Directories"
   ]
  },
  {
   "cell_type": "code",
   "execution_count": null,
   "id": "906ea114",
   "metadata": {},
   "outputs": [],
   "source": [
    "\n",
    "cwd=os.getcwd() #Current working directory\n",
    "print('CWD =',cwd)\n",
    "try:\n",
    "#create directory\n",
    "    os.mkdir('d:\\\\newdirectory1')\n",
    "    print('Directory created')\n",
    "\n",
    "#create directory\n",
    "    os.mkdir('d:\\\\newdirectory1\\\\subdir')\n",
    "    print('Sub Directory created')\n",
    "    \n",
    "#creating Multiple  directories and Sub dirs    \n",
    "    os.makedirs('d:\\\\newdir1\\\\subdir2')\n",
    "    print('Directries  created')\n",
    "except:\n",
    "    pass\n",
    "\n",
    "\n"
   ]
  },
  {
   "cell_type": "code",
   "execution_count": null,
   "id": "b055b44b",
   "metadata": {},
   "outputs": [],
   "source": [
    "\n",
    "\n",
    "try:\n",
    "#remove sub directory\n",
    "    os.rmdir('d:\\\\newdirectory1\\\\subdir')\n",
    "    print('Sub Directory removed')\n",
    "\n",
    "    #remove directory\n",
    "    os.rmdir('d:\\\\newdirectory1')\n",
    "    print('Directory removed')\n",
    "    \n",
    "#removing Multiple  directories and Sub dirs    \n",
    "    os.removedirs('d:\\\\newdir1\\\\subdir2')\n",
    "    print('Directries  removed')\n",
    "except:\n",
    "    pass\n",
    "    print('Error raised')\n",
    "\n",
    "\n",
    "\n"
   ]
  },
  {
   "cell_type": "code",
   "execution_count": null,
   "id": "dd1a397a",
   "metadata": {},
   "outputs": [],
   "source": [
    "l=os.listdir()\n",
    "l1=os.listdir(\"d:\\\\\")\n",
    "for i in l1:\n",
    "    print(i)\n",
    "    \n",
    "    \n",
    "#accessing subdirectories walk()   function\n",
    "for dirpath,dirnames,filesname in os.walk('d:\\\\'):\n",
    "    print('Current Working Director',dirpath)\n",
    "    print('Directories',dirnames)\n",
    "    print('Files',filesname)\n",
    "    print()\n",
    "    print()\n",
    "    "
   ]
  },
  {
   "cell_type": "code",
   "execution_count": null,
   "id": "4c53591d",
   "metadata": {},
   "outputs": [],
   "source": [
    "#executing other programs from python program\n",
    "#try:\n",
    "#    os.system('notepad')\n",
    "#except: \n",
    "#    pass"
   ]
  },
  {
   "cell_type": "markdown",
   "id": "9cd7b29f",
   "metadata": {},
   "source": [
    "# Getting file information\n",
    "# stat() function to know file parameters\n",
    "Python | os.stat() method"
   ]
  },
  {
   "cell_type": "code",
   "execution_count": 9,
   "id": "4f56c86c",
   "metadata": {},
   "outputs": [
    {
     "name": "stdout",
     "output_type": "stream",
     "text": [
      "os.stat_result(st_mode=33206, st_ino=9851624185127559, st_dev=104063550, st_nlink=1, st_uid=0, st_gid=0, st_size=658, st_atime=1626066560, st_mtime=1626066277, st_ctime=1626066277) \n",
      "\n",
      "Last modified time 2021-07-12 10:34:37.862351\n"
     ]
    }
   ],
   "source": [
    "from  datetime import *\n",
    "stats=os.stat('file1.txt')\n",
    "print(stats,'\\n')\n",
    "print('Last modified time',datetime.fromtimestamp(stats.st_mtime))  #convrting millsecs to date time "
   ]
  }
 ],
 "metadata": {
  "kernelspec": {
   "display_name": "Python 3",
   "language": "python",
   "name": "python3"
  },
  "language_info": {
   "codemirror_mode": {
    "name": "ipython",
    "version": 3
   },
   "file_extension": ".py",
   "mimetype": "text/x-python",
   "name": "python",
   "nbconvert_exporter": "python",
   "pygments_lexer": "ipython3",
   "version": "3.8.10"
  }
 },
 "nbformat": 4,
 "nbformat_minor": 5
}
